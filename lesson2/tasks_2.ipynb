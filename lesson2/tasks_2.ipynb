{
 "cells": [
  {
   "cell_type": "markdown",
   "id": "ff2cfc35-bee5-466e-bb37-a57fa6a944b2",
   "metadata": {},
   "source": [
    "# 1. Задана строка s, содержащая только символы '(', ')', '{', '}', '[' и ']', определите, является ли входная строка допустимой.\n",
    "\n",
    "# Входная строка является допустимой, если:\n",
    "\n",
    "# - Открытые скобки должны быть закрыты скобками того же типа. \n",
    "# - Открытые скобки должны быть закрыты в правильном порядке. \n",
    "# - Каждая закрытая скобка имеет соответствующую открытую скобку того же типа.\n",
    "# 1 <= длина строки <= 10^4"
   ]
  },
  {
   "cell_type": "markdown",
   "id": "ea8bdfb4-397c-4acc-9ce3-c1ca49b8c41a",
   "metadata": {},
   "source": [
    "Input: s = () \\\n",
    "Output: true\n",
    "\n",
    "Input: s = ){ \\\n",
    "Output: false\n",
    "\n",
    "Input: s = ()[]{} \\\n",
    "Output: true"
   ]
  },
  {
   "cell_type": "code",
   "execution_count": 12,
   "id": "dc9a3e5f-12e2-45c1-9c0c-8facf800a222",
   "metadata": {},
   "outputs": [
    {
     "name": "stdin",
     "output_type": "stream",
     "text": [
      " (())}\n"
     ]
    },
    {
     "name": "stdout",
     "output_type": "stream",
     "text": [
      "False\n",
      "[]\n",
      "False\n"
     ]
    }
   ],
   "source": [
    "s = input()\n",
    "\n",
    "stack = []\n",
    "correct = True\n",
    "\n",
    "for ch in s:\n",
    "    \n",
    "    if ch =='(' or ch =='[' or ch =='{': # push opening brackets on the top of stack\n",
    "        stack.append(ch)\n",
    "        \n",
    "    if ch == ')': # pop closing brackets and check type with the corresponding opening one\n",
    "        if stack:\n",
    "            if stack.pop() != '(':\n",
    "                correct = False\n",
    "                break\n",
    "        else:\n",
    "            correct = False\n",
    "            break\n",
    "                \n",
    "    if ch == ']': # pop closing brackets and check type with the corresponding opening one\n",
    "        if stack:\n",
    "            if stack.pop() != '[':\n",
    "                correct = False\n",
    "                break\n",
    "        else:\n",
    "            correct = False\n",
    "            break\n",
    "    \n",
    "    if ch == '}': # pop closing brackets and check type with the corresponding opening one\n",
    "        if stack:\n",
    "            if stack.pop() != '{':\n",
    "                correct = False\n",
    "                break\n",
    "        else:\n",
    "            correct = False\n",
    "            break\n",
    "\n",
    "\n",
    "if stack: # stack is not empty\n",
    "    correct = False\n",
    "    \n",
    "print(correct) "
   ]
  },
  {
   "cell_type": "code",
   "execution_count": 16,
   "id": "7b20646c-0add-4e97-8be7-90c85d8b67a2",
   "metadata": {},
   "outputs": [
    {
     "name": "stdin",
     "output_type": "stream",
     "text": [
      " )(\n"
     ]
    },
    {
     "name": "stdout",
     "output_type": "stream",
     "text": [
      "False\n"
     ]
    }
   ],
   "source": [
    "def check(s):\n",
    "    stack = []\n",
    "    \n",
    "    for ch in s:\n",
    "        \n",
    "        if ch =='(' or ch =='[' or ch =='{': # push opening brackets on the top of stack\n",
    "            stack.append(ch)\n",
    "\n",
    "        if ch == ')': # pop closing brackets and check type with the corresponding opening one\n",
    "            if stack:\n",
    "                if stack.pop() != '(':\n",
    "                    return False\n",
    "            else:\n",
    "                return False\n",
    "\n",
    "        if ch == ']': # pop closing brackets and check type with the corresponding opening one\n",
    "            if stack:\n",
    "                if stack.pop() != '[':\n",
    "                    return False\n",
    "            else:\n",
    "                return False\n",
    "\n",
    "        if ch == '}': # pop closing brackets and check type with the corresponding opening one\n",
    "            if stack:\n",
    "                if stack.pop() != '{':\n",
    "                    return False\n",
    "            else:\n",
    "                return False\n",
    "\n",
    "\n",
    "    if stack: # stack is not empty\n",
    "        correct = False\n",
    "    else:\n",
    "        return True\n",
    "    \n",
    "s = input()\n",
    "print(check(s))"
   ]
  },
  {
   "cell_type": "markdown",
   "id": "2d69f5e5-3338-4717-9adf-d869c4c87a14",
   "metadata": {},
   "source": [
    "# 2. Калькулятор. Получив строку s, представляющую допустимое выражение, реализуйте базовый калькулятор для его оценки и верните результат оценки.\n",
    "\n",
    "# 1 <= s.length <= 3 * 10^5\n",
    "# s состоит из цифр, '+', '-', '(', ')' и ' '.\n",
    "# s представляет собой правильное выражение.\n",
    "# '+' не используется как унарная операция (т.е. \"+1\" и \"+(2 + 3)\" недействительны).\n",
    "# '-' может использоваться как унарная операция (т.е. \"-1\" и \"-(2 + 3)\" допустимо).\n",
    "# Во входных данных не будет двух последовательных операторов."
   ]
  },
  {
   "cell_type": "code",
   "execution_count": null,
   "id": "9b500e37-0886-4a30-9ec1-4fb0aad26c19",
   "metadata": {},
   "outputs": [],
   "source": []
  },
  {
   "cell_type": "markdown",
   "id": "0f93f908-7281-4f5d-b44f-cf90640d2224",
   "metadata": {},
   "source": [
    "# 3. Юный художник Вася нарисовал плакат с очень большим числом и решил повесить его на самую длинную стену школы. К сожалению, даже самая длинная стена оказалась недостаточно длинной, поэтому ему придется укорачивать плакат до нужной длины. Вася — минималист, поэтому он хочет, чтобы число, получившееся после всех правок, было как можно меньше. Васе нужно вырезать из плаката любые K цифр, но он ни за что не согласится переставлять получившиеся кусочки местами, так как это нарушит цветовой баланс плаката. Помогите Васе переделать плакат.\n",
    "\n",
    "# Вход\n",
    "# В первой строке входных данных записано целое число N, записанное на изначальном длинном плакате. Гарантируется, что в N не менее двух и не более 200 000 цифр. Во второй строке содержится целое число K — количество цифр, которые необходимо вырезать из плаката. Гарантируется, что K не меньше одного и строго меньше количества цифр числа N. \\\n",
    "# Выход\n",
    "# Выведите минимальное число, которое может получиться на плакате после его укорачивания."
   ]
  },
  {
   "cell_type": "markdown",
   "id": "03000dde-d5d7-42ea-b081-cfd00e67c741",
   "metadata": {},
   "source": [
    "Вход: num = \"1432219\", k = 3 \\\n",
    "Выход: \"1219\" \\\n",
    "Пояснение: Удалите три цифры 4, 3 и 2, чтобы получить новое число 1219, которое является  наименьшим."
   ]
  },
  {
   "cell_type": "code",
   "execution_count": 11,
   "id": "6750ab01-1eec-471c-8fcb-005e048be1ad",
   "metadata": {},
   "outputs": [
    {
     "name": "stdin",
     "output_type": "stream",
     "text": [
      " 1432219\n",
      " 3\n"
     ]
    },
    {
     "data": {
      "text/plain": [
       "'1219'"
      ]
     },
     "execution_count": 11,
     "metadata": {},
     "output_type": "execute_result"
    }
   ],
   "source": [
    "def min_board_num(num:str, k:int) -> str:\n",
    "    \n",
    "    if k == len(num): # obvious case\n",
    "        return '0'\n",
    "    \n",
    "    stack = []\n",
    "    stack.append('0')\n",
    "    # ['1','4', '3', '2','2']\n",
    "    # ['1', '2' ]\n",
    "    for ch in num:\n",
    "        while ch < stack[-1] and k != 0: \n",
    "            k = k - 1\n",
    "            stack.pop()\n",
    "        stack.append(ch)\n",
    "      \n",
    "    # k != 0, we can remove more digits \n",
    "    while(k):\n",
    "        stack.pop()\n",
    "        k = k - 1\n",
    "    \n",
    "    count = 0 \n",
    "    for ch in stack:\n",
    "        if ch == '0':\n",
    "            count += 1\n",
    "        else:\n",
    "            break\n",
    "    \n",
    "    \n",
    "    return \"\".join(stack[count:])\n",
    "    \n",
    "        \n",
    "s = input()\n",
    "k = input()\n",
    "min_board_num(s, int(k))\n",
    "    \n",
    "    "
   ]
  },
  {
   "attachments": {
    "6cda951e-963f-46dc-ad05-47c37aff0901.png": {
     "image/png": "[encoded data removed]"
    }
   },
   "cell_type": "markdown",
   "id": "0e2a4852-8f90-4f9b-aac5-ae450bd41d94",
   "metadata": {},
   "source": [
    "![image.png](attachment:6cda951e-963f-46dc-ad05-47c37aff0901.png)"
   ]
  },
  {
   "cell_type": "code",
   "execution_count": 15,
   "id": "710258b4-fbdd-4866-83ed-87553b9fd90f",
   "metadata": {},
   "outputs": [
    {
     "name": "stdout",
     "output_type": "stream",
     "text": [
      "50 ,\n",
      "25 ,\n",
      "75 ,\n",
      "12 ,\n",
      "40 ,\n",
      "60 ,\n",
      "100 ,\n"
     ]
    }
   ],
   "source": [
    "tree_1 = {\n",
    "    '5': ['3', '7'],\n",
    "    '3': ['2', '4'],\n",
    "    '7': ['8'],\n",
    "    '2': [],\n",
    "    '4': [],\n",
    "    '8': []\n",
    "}\n",
    "\n",
    "tree_2 = {\n",
    "    '50': ['25', '75'],\n",
    "    '25': ['12', '40'],\n",
    "    '75': ['60', '100'],\n",
    "    '60': [],\n",
    "    '100': [],\n",
    "    '40': [],\n",
    "    '12':[]\n",
    "}\n",
    "\n",
    "def tree_search(vis, q, node):  #\n",
    "    q.append(node)\n",
    "    vis.append(node)\n",
    "    \n",
    "    while q:\n",
    "        cur_val = q.pop(0)\n",
    "        print(cur_val, ',')\n",
    "        \n",
    "        for elems in tree_2[cur_val]:\n",
    "            if elems not in vis:\n",
    "                q.append(elems)\n",
    "                vis.append(elems)\n",
    "\n",
    "vis = []\n",
    "q = []\n",
    "tree_search(vis, q, '50')    "
   ]
  },
  {
   "cell_type": "code",
   "execution_count": null,
   "id": "8558cbe0-7d1f-4b19-87f9-b4f965cf80fc",
   "metadata": {},
   "outputs": [],
   "source": []
  }
 ],
 "metadata": {
  "kernelspec": {
   "display_name": "Python 3 (ipykernel)",
   "language": "python",
   "name": "python3"
  },
  "language_info": {
   "codemirror_mode": {
    "name": "ipython",
    "version": 3
   },
   "file_extension": ".py",
   "mimetype": "text/x-python",
   "name": "python",
   "nbconvert_exporter": "python",
   "pygments_lexer": "ipython3",
   "version": "3.10.7"
  }
 },
 "nbformat": 4,
 "nbformat_minor": 5
}
