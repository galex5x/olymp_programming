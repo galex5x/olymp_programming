{
 "cells": [
  {
   "cell_type": "markdown",
   "id": "ff2cfc35-bee5-466e-bb37-a57fa6a944b2",
   "metadata": {},
   "source": [
    "# 1. Задана строка s, содержащая только символы '(', ')', '{', '}', '[' и ']', определите, является ли входная строка допустимой.\n",
    "\n",
    "# Входная строка является допустимой, если:\n",
    "\n",
    "# - Открытые скобки должны быть закрыты скобками того же типа. \n",
    "# - Открытые скобки должны быть закрыты в правильном порядке. \n",
    "# - Каждая закрытая скобка имеет соответствующую открытую скобку того же типа.\n",
    "# 1 <= длина строки <= 10^4"
   ]
  },
  {
   "cell_type": "markdown",
   "id": "ea8bdfb4-397c-4acc-9ce3-c1ca49b8c41a",
   "metadata": {},
   "source": [
    "Input: s = () \\\n",
    "Output: true\n",
    "\n",
    "Input: s = ){ \\\n",
    "Output: false\n",
    "\n",
    "Input: s = ()[]{} \\\n",
    "Output: true"
   ]
  },
  {
   "cell_type": "code",
   "execution_count": 1,
   "id": "dc9a3e5f-12e2-45c1-9c0c-8facf800a222",
   "metadata": {},
   "outputs": [
    {
     "name": "stdin",
     "output_type": "stream",
     "text": [
      " (())))\n"
     ]
    },
    {
     "name": "stdout",
     "output_type": "stream",
     "text": [
      "False\n"
     ]
    }
   ],
   "source": [
    "def check(s):\n",
    "    stack = []\n",
    "\n",
    "    for ch in s:\n",
    "\n",
    "        if ch =='(' or ch == '[' or ch == '{':\n",
    "            stack.append(ch)\n",
    "\n",
    "        if ch == ')':\n",
    "            if stack:\n",
    "                if stack.pop() != '(':\n",
    "                    return False\n",
    "            else:\n",
    "                return False\n",
    "        if ch == ']':\n",
    "            if stack:\n",
    "                if stack.pop() != '[':\n",
    "                    return False\n",
    "            else:\n",
    "                return False\n",
    "            \n",
    "        if ch == '}':\n",
    "            if stack:\n",
    "                if stack.pop() != '{':\n",
    "                    return False\n",
    "            else:\n",
    "                return False\n",
    "\n",
    "    if stack:\n",
    "        return False\n",
    "    else:\n",
    "        return True\n",
    "    \n",
    "s = input()\n",
    "print(check(s))"
   ]
  },
  {
   "cell_type": "markdown",
   "id": "2d69f5e5-3338-4717-9adf-d869c4c87a14",
   "metadata": {},
   "source": [
    "# 2. Калькулятор. Получив строку s, представляющую допустимое выражение, реализуйте базовый калькулятор для его оценки и верните результат оценки.\n",
    "\n",
    "# 1 <= s.length <= 3 * 10^5\n",
    "# s состоит из цифр, '+', '-', '(', ')' и ' '.\n",
    "# s представляет собой правильное выражение.\n",
    "# '+' не используется как унарная операция (т.е. \"+1\" и \"+(2 + 3)\" недействительны).\n",
    "# '-' может использоваться как унарная операция (т.е. \"-1\" и \"-(2 + 3)\" допустимо).\n",
    "# Во входных данных не будет двух последовательных операторов.\n",
    "# Каждое число и выполняемое вычисление будет помещаться в знаковое 32-битное целое число."
   ]
  },
  {
   "cell_type": "code",
   "execution_count": 2,
   "id": "9b500e37-0886-4a30-9ec1-4fb0aad26c19",
   "metadata": {},
   "outputs": [
    {
     "name": "stdout",
     "output_type": "stream",
     "text": [
      "105\n"
     ]
    }
   ],
   "source": [
    "def calculate(s: str) -> int:\n",
    "\n",
    "    ### num is the current number we are constructing\n",
    "\n",
    "    ### sign is the '+' or '-' before the current number we are constructing/holding\n",
    "    ### Note that we initialize sign with 1 to represent '+'\n",
    "\n",
    "    ### The last element in the stack will be the number we are updating during the \n",
    "    ### process, so put a 0 in it.\n",
    "    num, sign, stack = 0, 1, [0]\n",
    "\n",
    "    for c in s:\n",
    "\n",
    "        ### Constructing the number.\n",
    "        if c.isdigit():\n",
    "            num = num*10 + int(c)\n",
    "\n",
    "        ### Skip the space\n",
    "        elif c==' ':\n",
    "            continue\n",
    "\n",
    "        ### When we see '+', we need to multiply the current number we are holding with the \n",
    "        ### sign before this number, and update the last element in the stack.\n",
    "        ### We also need to reset num to 0 and sign to 1\n",
    "        elif c == '+':\n",
    "            stack[-1] += num * sign\n",
    "            sign = 1\n",
    "            num = 0\n",
    "\n",
    "        ### Doing the same thing as '+', but reset sign to -1\n",
    "        elif c == '-':\n",
    "            stack[-1] += num * sign\n",
    "            sign = -1\n",
    "            num = 0\n",
    "\n",
    "        ### We add sign to stack which represent the sign of this ()\n",
    "        ### We also add a 0 so we can keep update while evaluating the expression inside this ()\n",
    "        ### Reset num and sign again\n",
    "        elif c == '(':\n",
    "            stack.extend([sign,0])\n",
    "            sign = 1\n",
    "            num = 0\n",
    "\n",
    "        ### pop the last element and combine it with the current num and sign we are holding (the last element inside this '()' ).\n",
    "        ### pop the last element again which is the sign for this '()' and muitiply them together.\n",
    "        ### add everything we get inside this '()' to the last element in the stack.\n",
    "        elif c == ')':\n",
    "            lastNum = (stack.pop() + num*sign) * stack.pop()\n",
    "            stack[-1] += lastNum\n",
    "            sign = 1\n",
    "            num = 0\n",
    "\n",
    "    ### stack should only contain one element representing everything except the last number if the expression ended with a number, so add the current num we are holding to the result.\n",
    "    return stack[-1]+num*sign\n",
    "\n",
    "print(calculate(s = '100+5'))"
   ]
  },
  {
   "cell_type": "markdown",
   "id": "0f93f908-7281-4f5d-b44f-cf90640d2224",
   "metadata": {},
   "source": [
    "# 3. Юный художник Вася нарисовал плакат с очень большим числом и решил повесить его на самую длинную стену школы. К сожалению, даже самая длинная стена оказалась недостаточно длинной, поэтому ему придется укорачивать плакат до нужной длины. Вася — минималист, поэтому он хочет, чтобы число, получившееся после всех правок, было как можно меньше. Васе нужно вырезать из плаката любые K цифр, но он ни за что не согласится переставлять получившиеся кусочки местами, так как это нарушит цветовой баланс плаката. Помогите Васе переделать плакат.\n",
    "\n",
    "# Вход\n",
    "# В первой строке входных данных записано целое число N, записанное на изначальном длинном плакате. Гарантируется, что в N не менее двух и не более 200 000 цифр. Во второй строке содержится целое число K — количество цифр, которые необходимо вырезать из плаката. Гарантируется, что K не меньше одного и строго меньше количества цифр числа N. \\\n",
    "# Выход\n",
    "# Выведите минимальное число, которое может получиться на плакате после его укорачивания."
   ]
  },
  {
   "cell_type": "markdown",
   "id": "03000dde-d5d7-42ea-b081-cfd00e67c741",
   "metadata": {},
   "source": [
    "Вход: num = \"1432219\", k = 3 \\\n",
    "Выход: \"1219\" \\\n",
    "Пояснение: Удалите три цифры 4, 3 и 2, чтобы получить новое число 1219, которое является  наименьшим."
   ]
  },
  {
   "cell_type": "code",
   "execution_count": 3,
   "id": "6750ab01-1eec-471c-8fcb-005e048be1ad",
   "metadata": {},
   "outputs": [
    {
     "name": "stdin",
     "output_type": "stream",
     "text": [
      " 11111222222\n",
      " 1\n"
     ]
    },
    {
     "name": "stdout",
     "output_type": "stream",
     "text": [
      "['1', '1', '1', '1', '1', '2', '2', '2', '2', '2']\n",
      "1111122222\n"
     ]
    }
   ],
   "source": [
    "def Remove_Digits(num: str, k: int) -> str:\n",
    "        stack = []\n",
    "        stack.append('0')\n",
    "        \n",
    "        if len(num) == k:\n",
    "            return '0'\n",
    "\n",
    "        for ch in num:\n",
    "            while int(ch) < int(stack[-1]) and k != 0:\n",
    "                k = k - 1\n",
    "                stack.pop()\n",
    "            \n",
    "            stack.append(ch)\n",
    "\n",
    "        while(k):\n",
    "            stack.pop()\n",
    "            k -= 1\n",
    "\n",
    "        # delete zeros from start\n",
    "        count = 0\n",
    "        for ch in stack:\n",
    "            if ch == '0':\n",
    "                count += 1\n",
    "            else:\n",
    "                break\n",
    "        print(stack[count:])\n",
    "\n",
    "        if stack[count:]:\n",
    "            return ''.join(stack[count:])\n",
    "        else:\n",
    "            return '0'\n",
    "        \n",
    "num = input()\n",
    "k = input()\n",
    "print(Remove_Digits(num, int(k)))"
   ]
  },
  {
   "cell_type": "code",
   "execution_count": 4,
   "id": "b4d4a002-b9bf-4846-9f4e-3eb3bef7c9cc",
   "metadata": {},
   "outputs": [
    {
     "name": "stdin",
     "output_type": "stream",
     "text": [
      " 11111222222\n",
      " 1\n"
     ]
    },
    {
     "name": "stdout",
     "output_type": "stream",
     "text": [
      "1111122222\n"
     ]
    }
   ],
   "source": [
    "import collections\n",
    "\n",
    "def Remove_digits_deque(num: str, k: int) -> str:\n",
    "    de = collections.deque(['0'])\n",
    "\n",
    "    if len(num) == k:\n",
    "        return '0'\n",
    "\n",
    "    for ch in num:\n",
    "        while int(ch) < int(de[-1]) and k != 0:\n",
    "            k = k - 1\n",
    "            de.pop()\n",
    "\n",
    "        de.append(ch)\n",
    "\n",
    "    while(k):\n",
    "        de.pop()\n",
    "        k -= 1\n",
    "\n",
    "    # delete zeros from start\n",
    "\n",
    "    for i in range(len(de)):\n",
    "        cur = de.popleft()\n",
    "        if cur != '0':\n",
    "            de.appendleft(cur)\n",
    "            break\n",
    "\n",
    "\n",
    "    if de:\n",
    "        return ''.join(de)\n",
    "    else:\n",
    "        return '0'\n",
    "    \n",
    "a = input()\n",
    "k = input()\n",
    "\n",
    "print(Remove_digits_deque(a, int(k)))"
   ]
  }
 ],
 "metadata": {
  "kernelspec": {
   "display_name": "Python 3 (ipykernel)",
   "language": "python",
   "name": "python3"
  },
  "language_info": {
   "codemirror_mode": {
    "name": "ipython",
    "version": 3
   },
   "file_extension": ".py",
   "mimetype": "text/x-python",
   "name": "python",
   "nbconvert_exporter": "python",
   "pygments_lexer": "ipython3",
   "version": "3.10.7"
  }
 },
 "nbformat": 4,
 "nbformat_minor": 5
}
